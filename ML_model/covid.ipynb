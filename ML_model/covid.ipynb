{
 "cells": [
  {
   "cell_type": "code",
   "execution_count": 1,
   "id": "ba025742",
   "metadata": {},
   "outputs": [
    {
     "name": "stdout",
     "output_type": "stream",
     "text": [
      "Init Plugin\n",
      "Init Graph Optimizer\n",
      "Init Kernel\n",
      "WARNING:tensorflow:From /var/folders/gx/cgwnkj8172lfc4nmcl9j2fqr0000gn/T/ipykernel_22480/2593865219.py:10: experimental_run_functions_eagerly (from tensorflow.python.eager.def_function) is deprecated and will be removed in a future version.\n",
      "Instructions for updating:\n",
      "Use `tf.config.run_functions_eagerly` instead of the experimental version.\n"
     ]
    }
   ],
   "source": [
    "import os\n",
    "import numpy as np\n",
    "import pandas as pd\n",
    "import matplotlib.pyplot as plt\n",
    "import seaborn as sns\n",
    "import keras\n",
    "import tensorflow as tf\n",
    "from keras.preprocessing.image import load_img\n",
    "from tensorflow.keras.preprocessing.image import ImageDataGenerator\n",
    "tf.config.experimental_run_functions_eagerly(True)"
   ]
  },
  {
   "cell_type": "code",
   "execution_count": 2,
   "id": "11741cc1",
   "metadata": {},
   "outputs": [],
   "source": [
    "img_dir = '/Users/adityavs14/Documents/Internship/Pianalytix/COVID/ML_model/data2'"
   ]
  },
  {
   "cell_type": "code",
   "execution_count": 3,
   "id": "d8ad83ba",
   "metadata": {},
   "outputs": [],
   "source": [
    "BATCH_SIZE = 128\n",
    "IMAGE_SIZE = 128\n",
    "input_shape = (128,128,1)"
   ]
  },
  {
   "cell_type": "code",
   "execution_count": 4,
   "id": "489a0ba1",
   "metadata": {},
   "outputs": [],
   "source": [
    "data_gen = ImageDataGenerator(rescale=1./255,\n",
    "                              shear_range=0.2,\n",
    "                              zoom_range=0.2,\n",
    "                              horizontal_flip=True,\n",
    "                              validation_split = 0.2)"
   ]
  },
  {
   "cell_type": "code",
   "execution_count": 5,
   "id": "a5a50990",
   "metadata": {},
   "outputs": [
    {
     "name": "stdout",
     "output_type": "stream",
     "text": [
      "Found 6752 images belonging to 2 classes.\n"
     ]
    }
   ],
   "source": [
    "train_gen = data_gen.flow_from_directory(img_dir,\n",
    "                                        target_size=(IMAGE_SIZE,IMAGE_SIZE),\n",
    "                                        batch_size = BATCH_SIZE,\n",
    "                                        color_mode= \"grayscale\",\n",
    "                                        shuffle=True,\n",
    "                                        class_mode = \"binary\",\n",
    "                                        subset = \"training\")"
   ]
  },
  {
   "cell_type": "code",
   "execution_count": 6,
   "id": "f6bf790a",
   "metadata": {},
   "outputs": [
    {
     "name": "stdout",
     "output_type": "stream",
     "text": [
      "Found 1687 images belonging to 2 classes.\n"
     ]
    }
   ],
   "source": [
    "val_gen = data_gen.flow_from_directory(img_dir,\n",
    "                                        target_size=(IMAGE_SIZE,IMAGE_SIZE),\n",
    "                                        batch_size = BATCH_SIZE,\n",
    "                                        color_mode= \"grayscale\",\n",
    "                                        shuffle=True,\n",
    "                                        class_mode = \"binary\",\n",
    "                                        subset = \"validation\")"
   ]
  },
  {
   "cell_type": "code",
   "execution_count": 7,
   "id": "b2f22236",
   "metadata": {},
   "outputs": [
    {
     "name": "stdout",
     "output_type": "stream",
     "text": [
      "['COVID-19', 'Non-COVID-19']\n"
     ]
    }
   ],
   "source": [
    "labels = train_gen.class_indices\n",
    "classes = list(labels.keys())\n",
    "\n",
    "print(classes)"
   ]
  },
  {
   "cell_type": "code",
   "execution_count": 8,
   "id": "bcb49f45",
   "metadata": {},
   "outputs": [],
   "source": [
    "from keras.models import Sequential\n",
    "from keras.layers import Dense, Conv2D, MaxPooling2D ,BatchNormalization, Flatten, Dropout"
   ]
  },
  {
   "cell_type": "code",
   "execution_count": 9,
   "id": "f240f9aa",
   "metadata": {},
   "outputs": [
    {
     "name": "stdout",
     "output_type": "stream",
     "text": [
      "Metal device set to: Apple M1\n"
     ]
    },
    {
     "name": "stderr",
     "output_type": "stream",
     "text": [
      "2023-04-25 05:51:32.718700: I tensorflow/core/common_runtime/pluggable_device/pluggable_device_factory.cc:305] Could not identify NUMA node of platform GPU ID 0, defaulting to 0. Your kernel may not have been built with NUMA support.\n",
      "2023-04-25 05:51:32.719526: I tensorflow/core/common_runtime/pluggable_device/pluggable_device_factory.cc:271] Created TensorFlow device (/job:localhost/replica:0/task:0/device:GPU:0 with 0 MB memory) -> physical PluggableDevice (device: 0, name: METAL, pci bus id: <undefined>)\n"
     ]
    }
   ],
   "source": [
    "\n",
    "model = Sequential()\n",
    "model.add(keras.layers.InputLayer(input_shape=input_shape))\n",
    "model.add(Conv2D(16,(3,3), activation=\"relu\"))\n",
    "model.add(MaxPooling2D((2,2)))\n",
    "model.add(Conv2D(16,(3,3), activation=\"relu\"))\n",
    "model.add(MaxPooling2D((2,2)))\n",
    "model.add(Conv2D(32,(3,3), activation=\"relu\"))\n",
    "model.add(MaxPooling2D((2,2)))\n",
    "model.add(Conv2D(32,(3,3), activation=\"relu\"))\n",
    "model.add(MaxPooling2D((2,2)))\n",
    "model.add(Flatten())\n",
    "model.add(Dense(256, activation=\"relu\"))\n",
    "#model.add(Dense(512, activation=\"relu\"))\n",
    "model.add(Dropout(0.2))\n",
    "#model.add(Dense(4, activation='softmax'))\n",
    "model.add(Dense(1, activation='sigmoid'))"
   ]
  },
  {
   "cell_type": "code",
   "execution_count": 11,
   "id": "e5156702",
   "metadata": {},
   "outputs": [
    {
     "name": "stdout",
     "output_type": "stream",
     "text": [
      "Model: \"sequential\"\n",
      "_________________________________________________________________\n",
      "Layer (type)                 Output Shape              Param #   \n",
      "=================================================================\n",
      "conv2d (Conv2D)              (None, 126, 126, 16)      160       \n",
      "_________________________________________________________________\n",
      "max_pooling2d (MaxPooling2D) (None, 63, 63, 16)        0         \n",
      "_________________________________________________________________\n",
      "conv2d_1 (Conv2D)            (None, 61, 61, 16)        2320      \n",
      "_________________________________________________________________\n",
      "max_pooling2d_1 (MaxPooling2 (None, 30, 30, 16)        0         \n",
      "_________________________________________________________________\n",
      "conv2d_2 (Conv2D)            (None, 28, 28, 32)        4640      \n",
      "_________________________________________________________________\n",
      "max_pooling2d_2 (MaxPooling2 (None, 14, 14, 32)        0         \n",
      "_________________________________________________________________\n",
      "conv2d_3 (Conv2D)            (None, 12, 12, 32)        9248      \n",
      "_________________________________________________________________\n",
      "max_pooling2d_3 (MaxPooling2 (None, 6, 6, 32)          0         \n",
      "_________________________________________________________________\n",
      "flatten (Flatten)            (None, 1152)              0         \n",
      "_________________________________________________________________\n",
      "dense (Dense)                (None, 256)               295168    \n",
      "_________________________________________________________________\n",
      "dropout (Dropout)            (None, 256)               0         \n",
      "_________________________________________________________________\n",
      "dense_1 (Dense)              (None, 1)                 257       \n",
      "=================================================================\n",
      "Total params: 311,793\n",
      "Trainable params: 311,793\n",
      "Non-trainable params: 0\n",
      "_________________________________________________________________\n"
     ]
    }
   ],
   "source": [
    "model.compile(optimizer='adam', loss='binary_crossentropy',metrics=['accuracy'])\n",
    "model.summary()"
   ]
  },
  {
   "cell_type": "code",
   "execution_count": 12,
   "id": "d69f0f57",
   "metadata": {},
   "outputs": [
    {
     "data": {
      "text/plain": [
       "(53, 14)"
      ]
     },
     "execution_count": 12,
     "metadata": {},
     "output_type": "execute_result"
    }
   ],
   "source": [
    "len(train_gen),len(val_gen)"
   ]
  },
  {
   "cell_type": "code",
   "execution_count": 13,
   "id": "0bcea714",
   "metadata": {},
   "outputs": [
    {
     "name": "stderr",
     "output_type": "stream",
     "text": [
      "/opt/homebrew/Caskroom/miniforge/base/envs/tensorflow/lib/python3.9/site-packages/tensorflow/python/data/ops/dataset_ops.py:3703: UserWarning: Even though the `tf.config.experimental_run_functions_eagerly` option is set, this option does not apply to tf.data functions. To force eager execution of tf.data functions, please use `tf.data.experimental.enable.debug_mode()`.\n",
      "  warnings.warn(\n",
      "2023-04-25 05:52:31.023002: I tensorflow/compiler/mlir/mlir_graph_optimization_pass.cc:176] None of the MLIR Optimization Passes are enabled (registered 2)\n",
      "2023-04-25 05:52:31.024515: W tensorflow/core/platform/profile_utils/cpu_utils.cc:128] Failed to get CPU frequency: 0 Hz\n"
     ]
    },
    {
     "name": "stdout",
     "output_type": "stream",
     "text": [
      "Epoch 1/10\n",
      "53/53 [==============================] - 26s 462ms/step - loss: 0.3851 - accuracy: 0.8884 - val_loss: 0.3313 - val_accuracy: 0.8886\n",
      "Epoch 2/10\n",
      "53/53 [==============================] - 24s 461ms/step - loss: 0.2825 - accuracy: 0.9012 - val_loss: 0.3021 - val_accuracy: 0.8874\n",
      "Epoch 3/10\n",
      "53/53 [==============================] - 24s 459ms/step - loss: 0.2095 - accuracy: 0.9308 - val_loss: 0.3255 - val_accuracy: 0.8975\n",
      "Epoch 4/10\n",
      "53/53 [==============================] - 24s 463ms/step - loss: 0.1827 - accuracy: 0.9382 - val_loss: 0.2767 - val_accuracy: 0.9010\n",
      "Epoch 5/10\n",
      "53/53 [==============================] - 24s 465ms/step - loss: 0.1475 - accuracy: 0.9492 - val_loss: 0.2650 - val_accuracy: 0.9052\n",
      "Epoch 6/10\n",
      "53/53 [==============================] - 24s 462ms/step - loss: 0.1205 - accuracy: 0.9590 - val_loss: 0.2475 - val_accuracy: 0.9312\n",
      "Epoch 7/10\n",
      "53/53 [==============================] - 24s 461ms/step - loss: 0.1105 - accuracy: 0.9669 - val_loss: 0.2837 - val_accuracy: 0.9046\n",
      "Epoch 8/10\n",
      "53/53 [==============================] - 24s 463ms/step - loss: 0.1101 - accuracy: 0.9643 - val_loss: 0.3064 - val_accuracy: 0.9253\n",
      "Epoch 9/10\n",
      "53/53 [==============================] - 24s 464ms/step - loss: 0.0791 - accuracy: 0.9745 - val_loss: 0.2727 - val_accuracy: 0.9295\n",
      "Epoch 10/10\n",
      "53/53 [==============================] - 24s 461ms/step - loss: 0.0730 - accuracy: 0.9752 - val_loss: 0.3524 - val_accuracy: 0.8720\n"
     ]
    }
   ],
   "source": [
    "with tf.device('/device:GPU:0'):\n",
    "    history = model.fit(train_gen,verbose=1,epochs=10,validation_data=val_gen,steps_per_epoch = len(train_gen),validation_steps = len(val_gen))"
   ]
  },
  {
   "cell_type": "code",
   "execution_count": 14,
   "id": "c0c671c6",
   "metadata": {},
   "outputs": [
    {
     "data": {
      "text/plain": [
       "<AxesSubplot:>"
      ]
     },
     "execution_count": 14,
     "metadata": {},
     "output_type": "execute_result"
    },
    {
     "data": {
      "image/png": "[encoded data removed]",
      "text/plain": [
       "<Figure size 640x480 with 1 Axes>"
      ]
     },
     "metadata": {},
     "output_type": "display_data"
    }
   ],
   "source": [
    "pd.DataFrame(history.history).plot()"
   ]
  },
  {
   "cell_type": "code",
   "execution_count": 15,
   "id": "c96d826d",
   "metadata": {},
   "outputs": [],
   "source": [
    "model.save('CovidTest.h5')"
   ]
  },
  {
   "cell_type": "code",
   "execution_count": 31,
   "id": "91119c98",
   "metadata": {},
   "outputs": [
    {
     "data": {
      "image/png": "[encoded data removed]",
      "text/plain": [
       "<PIL.Image.Image image mode=L size=128x128 at 0x292D11070>"
      ]
     },
     "metadata": {},
     "output_type": "display_data"
    },
    {
     "name": "stdout",
     "output_type": "stream",
     "text": [
      "No COVID detected\n"
     ]
    }
   ],
   "source": [
    "from sklearn.metrics import confusion_matrix\n",
    "import seaborn as sns\n",
    "import matplotlib.pyplot as plt\n",
    "from sklearn.metrics import accuracy_score, precision_score, recall_score, f1_score\n",
    "from matplotlib.pyplot import imshow\n",
    "from PIL import Image, ImageOps\n",
    "\n",
    "\n",
    "data = np.ndarray(shape=(1,128, 128, 1), dtype=np.float32)\n",
    "#image = Image.open(f'/Users/adityavs14/Documents/Internship/Pianalytix/COVID/ML_model/data2/COVID-19/COVID-19_0231.png')\n",
    "image = Image.open(f'/Users/adityavs14/Documents/Internship/Pianalytix/COVID/ML_model/data2/Non-COVID-19/Non-COVID-19_251.png')\n",
    "size = (128, 128)\n",
    "image = ImageOps.grayscale(image)\n",
    "image = ImageOps.fit(image, size, Image.ANTIALIAS)\n",
    "image_array = np.asarray(image)\n",
    "display(image)\n",
    "\n",
    "data = image_array.reshape((-1,128,128,1))/255\n",
    "\n",
    "prediction = np.round(model.predict(data)[0][0])\n",
    "if prediction == 0:\n",
    "    print('COVID detected')\n",
    "else:\n",
    "    print('No COVID detected')\n",
    "\n",
    "\n",
    " "
   ]
  },
  {
   "cell_type": "code",
   "execution_count": null,
   "id": "20650e7a",
   "metadata": {},
   "outputs": [],
   "source": []
  }
 ],
 "metadata": {
  "kernelspec": {
   "display_name": "Python 3.9 (tensorflow)",
   "language": "python",
   "name": "tensorflow"
  },
  "language_info": {
   "codemirror_mode": {
    "name": "ipython",
    "version": 3
   },
   "file_extension": ".py",
   "mimetype": "text/x-python",
   "name": "python",
   "nbconvert_exporter": "python",
   "pygments_lexer": "ipython3",
   "version": "3.9.13"
  }
 },
 "nbformat": 4,
 "nbformat_minor": 5
}
